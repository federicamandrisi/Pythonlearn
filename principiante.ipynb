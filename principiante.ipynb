{
 "cells": [
  {
   "cell_type": "markdown",
   "metadata": {},
   "source": [
    "##### 1. Scrivi un programma che chieda due numeri all'utente tramite la funzione input e mostri il più grande tra i due utilizzando la funzione print. \\\n",
    "Per quanto Python disponga di una funzione `max()`, siete invitati ad utilizzare le istruzioni `if, elif` ed `else` per la scrittura dell'algoritmo."
   ]
  },
  {
   "cell_type": "code",
   "execution_count": 5,
   "metadata": {},
   "outputs": [
    {
     "name": "stdout",
     "output_type": "stream",
     "text": [
      "Il numero maggiore è: 4\n"
     ]
    }
   ],
   "source": [
    "# Utilizzando la funzione max\n",
    "numero1 = input(\"Scrivi un numero: \")\n",
    "numero2 = input(\"Scrivi un altro numero: \")\n",
    "\n",
    "print(f\"Il numero maggiore è:{max(numero1, numero2)}\")\n"
   ]
  },
  {
   "cell_type": "code",
   "execution_count": 3,
   "metadata": {},
   "outputs": [
    {
     "name": "stdout",
     "output_type": "stream",
     "text": [
      "Il numero maggiore è il secondo numero: 4\n"
     ]
    }
   ],
   "source": [
    "# Max tra due numeri utilizzando if, elif ed else\n",
    "\n",
    "numero1 = input(\"Scrivi un numero: \")\n",
    "numero2 = input(\"Scrivi un altro numero: \")\n",
    "\n",
    "# Utilizziamo le istruzioni if, elif, else \n",
    "if numero1 > numero2:\n",
    "    print(f\"Il numero maggiore è il primo numero: {numero1}\")\n",
    "elif numero2 > numero1:\n",
    "    print(f\"Il numero maggiore è il secondo numero: {numero2}\")\n",
    "else:\n",
    "    print(\"I numeri sono uguali\") # nel caso in cui dovessimo avere 2 numeri uguali, lo sapremo"
   ]
  },
  {
   "cell_type": "markdown",
   "metadata": {},
   "source": [
    "##### 2. Scrivi un programma che chieda tre numeri a, b, c all'utente e mostri il più grande tra loro."
   ]
  },
  {
   "cell_type": "code",
   "execution_count": 8,
   "metadata": {},
   "outputs": [
    {
     "name": "stdout",
     "output_type": "stream",
     "text": [
      "Il numero maggiore è: 3\n"
     ]
    }
   ],
   "source": [
    "# Max tra tre numeri utilizzando if, elif ed else\n",
    "numero1 = input(\"Scrivi il primo numero: \")\n",
    "numero2 = input(\"Scrivi il secondo numero: \")\n",
    "numero3 = input(\"Scrivi il terzo numero: \")\n",
    "\n",
    "if numero1 > numero2 and numero1 > numero3:   #Esempio: 3, 2, 1 \n",
    "    print(f\"Il numero maggiore è: {numero1}\")\n",
    "elif numero2 > numero1 and numero2 > numero3: #Esempio: 2, 3, 1\n",
    "    print(f\"Il numero maggiore è: {numero2}\")\n",
    "else:                                         #Esempio: 1, 2, 3\n",
    "    print(f\"Il numero maggiore è: {numero3}\")"
   ]
  },
  {
   "cell_type": "markdown",
   "metadata": {},
   "source": [
    "##### 3. Scrivi un programma che, data una lista di numeri, fornisca in output il maggiore tra tutti gli elementi della lista."
   ]
  },
  {
   "cell_type": "code",
   "execution_count": 24,
   "metadata": {},
   "outputs": [
    {
     "name": "stdout",
     "output_type": "stream",
     "text": [
      "7\n"
     ]
    }
   ],
   "source": [
    "#Il numero maggiore della lista\n",
    "lista = [3, 5, 6, 1, 7]\n",
    "print(max(lista))"
   ]
  },
  {
   "cell_type": "markdown",
   "metadata": {},
   "source": [
    "##### 4. Scrivi un programma che chieda all'utente una stringa composta da un solo carattere e dica se si tratta di una vocale oppure no."
   ]
  },
  {
   "cell_type": "code",
   "execution_count": 12,
   "metadata": {},
   "outputs": [
    {
     "name": "stdout",
     "output_type": "stream",
     "text": [
      "La lettera è una vocale\n"
     ]
    }
   ],
   "source": [
    "# E' una vocale?\n",
    "lettera = input(\"Inerisici una lettera: \")\n",
    "\n",
    "if lettera in \"aeiou\" : \n",
    "    print(\"La lettera è una vocale\")\n",
    "else:\n",
    "    print(\"La lettera è una consonante\")\n"
   ]
  },
  {
   "cell_type": "markdown",
   "metadata": {},
   "source": [
    "##### 5. Scrivi un semplice programma che, data una lista di numeri, `sommi` tra loro tutti gli elementi.\n",
    "\n",
    "Suggerimento: anche se esiste la funzione sum() per risolvere l'esercizio potresti usare il ciclo for."
   ]
  },
  {
   "cell_type": "code",
   "execution_count": 16,
   "metadata": {},
   "outputs": [
    {
     "name": "stdout",
     "output_type": "stream",
     "text": [
      "La somma dei numeri nella lista è: 29\n"
     ]
    }
   ],
   "source": [
    "lista = [4, 9, 6, 2, 3, 5]\n",
    "# Utilizza il ciclo for per sommare i numeri nella lista\n",
    "somma = 0\n",
    "for numero in lista:\n",
    "    somma += numero\n",
    "print(f\"La somma dei numeri nella lista è: {somma}\")\n"
   ]
  },
  {
   "cell_type": "markdown",
   "metadata": {},
   "source": [
    "##### 5.1 Scrivi un programma che, data una lista di numeri, `moltiplichi` tra loro tutti gli elementi."
   ]
  },
  {
   "cell_type": "code",
   "execution_count": 23,
   "metadata": {},
   "outputs": [
    {
     "name": "stdout",
     "output_type": "stream",
     "text": [
      "Il prodotto dei numeri nella lista è: 6480\n"
     ]
    }
   ],
   "source": [
    "lista = [4, 9, 6, 2, 3, 5]\n",
    "# Utilizza il ciclo for per moltiplicare i numeri nella lista\n",
    "prodotto = 1\n",
    "for numero in lista:\n",
    "    if numero != 0:\n",
    "        prodotto *= numero\n",
    "print(f\"Il prodotto dei numeri nella lista è: {prodotto}\")"
   ]
  },
  {
   "cell_type": "markdown",
   "metadata": {},
   "source": [
    "##### 5.2 Scrivi un programma che, data una lista di numeri, `calcoli la media` dei numeri.\n"
   ]
  },
  {
   "cell_type": "code",
   "execution_count": null,
   "metadata": {},
   "outputs": [],
   "source": [
    "lista = [4, 9, 6, 2, 3, 5]\n",
    "# Trova la media dei numeri nella lista\n",
    "media = sum(lista) / len(lista)\n",
    "print(f\"La media dei numeri nella lista è: {media}\")"
   ]
  },
  {
   "cell_type": "markdown",
   "metadata": {},
   "source": [
    "##### 6. Scrivi un programma che a partire da un elemento e una lista di elementi dica in output se l'elemento passato sia presente o meno nella lista.\n",
    "\n",
    "Qualora l'elemento sia presente nella lista, il programma dovrà comunicarci l'indice dell'elemento tramite il metodo index."
   ]
  },
  {
   "cell_type": "code",
   "execution_count": 19,
   "metadata": {},
   "outputs": [
    {
     "name": "stdout",
     "output_type": "stream",
     "text": [
      "L'elemento 6 è presente nella lista e ha l'indice 2\n"
     ]
    }
   ],
   "source": [
    "# solamente per soci di elemento\n",
    "elemento = 6\n",
    "lista = [4, 9, 6, 2, 3, 5]\n",
    "\n",
    "if elemento in lista:\n",
    "    print(f\"L'elemento {elemento} è presente nella lista e ha l'indice {lista.index(elemento)}\")\n",
    "else:\n",
    "    print(f\"L'elemento {elemento} non è presente nella lista\")"
   ]
  },
  {
   "cell_type": "code",
   "execution_count": 22,
   "metadata": {},
   "outputs": [
    {
     "name": "stdout",
     "output_type": "stream",
     "text": [
      "Marco è presente nella lista all'indice 0\n"
     ]
    }
   ],
   "source": [
    "lista = ['Marco', 'Luigi', 'Paolo', 'Giuseppe', 'Maria']\n",
    "el = input(\"Inserisci un nome da cercare: \")\n",
    "trovato = False\n",
    "for nome in lista:\n",
    "    if nome == el:\n",
    "        trovato = True\n",
    "        break\n",
    "if trovato:\n",
    "    print(f\"{el} è presente nella lista all'indice {lista.index(el)}\")\n",
    "else:\n",
    "    print(f\"{el} non è presente nella lista.\")"
   ]
  },
  {
   "cell_type": "markdown",
   "metadata": {},
   "source": [
    "##### 7. Scrivi una semplice funzione che, data una lista di numeri, fornisca in output un istogramma basato su questi numeri, usando asterischi per disegnarlo.\n",
    "\n",
    "Data ad esempio la lista [3, 7, 9, 5], la funzione dovrà produrre questa sequenza:\n",
    "\n",
    "***\n",
    "\n",
    "*******\n",
    "\n",
    "*********\n",
    "\n",
    "*****"
   ]
  },
  {
   "cell_type": "code",
   "execution_count": 19,
   "metadata": {},
   "outputs": [
    {
     "name": "stdout",
     "output_type": "stream",
     "text": [
      "***\n",
      "*******\n",
      "*********\n",
      "*****\n"
     ]
    }
   ],
   "source": [
    "def istogramma(lista):\n",
    "    for numero in lista:\n",
    "        print(\"*\" * numero)\n",
    "\n",
    "# Genera un istogramma\n",
    "lista = [3, 7, 9, 5]\n",
    "istogramma(lista)"
   ]
  },
  {
   "cell_type": "markdown",
   "metadata": {},
   "source": [
    "##### 8 Usa un ciclo while e un'istruzione print per generare ogni riga. Ogni riga dovrebbe avere un carattere * in più rispetto alla riga precedente.\n",
    "La struttura finale deve avere questa forma:\n",
    "*\n",
    "**\n",
    "***\n",
    "****\n",
    "*****"
   ]
  },
  {
   "cell_type": "code",
   "execution_count": 20,
   "metadata": {},
   "outputs": [
    {
     "name": "stdout",
     "output_type": "stream",
     "text": [
      "*\n",
      "**\n",
      "***\n",
      "****\n",
      "*****\n"
     ]
    }
   ],
   "source": [
    "num_lines = 5\n",
    "line = 1\n",
    "while line <= num_lines:\n",
    "    print(\"*\" * line)\n",
    "    line += 1"
   ]
  },
  {
   "cell_type": "markdown",
   "metadata": {},
   "source": [
    "##### 9. Scrivi una funzione che restituisca la lunghezza di una stringa o lista passata come parametro. In sostanza, seppur presente, provate a scrivere la nostra versione della funzione len!"
   ]
  },
  {
   "cell_type": "code",
   "execution_count": 13,
   "metadata": {},
   "outputs": [
    {
     "name": "stdout",
     "output_type": "stream",
     "text": [
      "La lunghezza della stringa You're welcome! è: 15\n"
     ]
    }
   ],
   "source": [
    "# Scrivi la tua versione di len()\n",
    "string = \"You're welcome!\"\n",
    "lenght = 0\n",
    "for letter in string:\n",
    "    lenght += 1\n",
    "print(f\"La lunghezza della stringa {string} è: {lenght}\")"
   ]
  },
  {
   "cell_type": "markdown",
   "metadata": {},
   "source": [
    "##### 10. Scrivi una funzione che data in ingresso una lista A contenente n parole, restituisca in output una lista B di interi che rappresentano la lunghezza delle parole contenute in A.\n",
    "\n",
    "Questo esercizio può essere risolto anche usando una list comprehension."
   ]
  },
  {
   "cell_type": "code",
   "execution_count": null,
   "metadata": {},
   "outputs": [],
   "source": [
    "# a ciascuno il suo"
   ]
  },
  {
   "cell_type": "markdown",
   "metadata": {},
   "source": [
    "##### 11. Scrivi una funzione che, data una stringa come parametro, restituisca un dizionario rappresentante la \"frequenza di comparsa\" di ciascun carattere componente la stringa.\n",
    "\n",
    "Per fare un esempio, data una stringa \"ababcc\", otterremo in risultato{\"a\": 2, \"b\": 2, \"c\": 2}"
   ]
  },
  {
   "cell_type": "code",
   "execution_count": null,
   "metadata": {},
   "outputs": [],
   "source": [
    "# Il frequenzimetro"
   ]
  },
  {
   "cell_type": "markdown",
   "metadata": {},
   "source": [
    "##### 12. Scrivi una funzione che, dato in ingresso un valore espresso in metri, mandi in print l'equivalente in miglia terrestri, iarde, piedi e pollici. \n",
    "Come risolverai questo esercizio?"
   ]
  },
  {
   "cell_type": "code",
   "execution_count": 1,
   "metadata": {},
   "outputs": [
    {
     "ename": "NameError",
     "evalue": "name 'lista' is not defined",
     "output_type": "error",
     "traceback": [
      "\u001b[0;31m---------------------------------------------------------------------------\u001b[0m",
      "\u001b[0;31mNameError\u001b[0m                                 Traceback (most recent call last)",
      "Cell \u001b[0;32mIn[1], line 3\u001b[0m\n\u001b[1;32m      1\u001b[0m \u001b[38;5;66;03m#ista = [4, 9, 6, 2, 3, 5]\u001b[39;00m\n\u001b[1;32m      2\u001b[0m \u001b[38;5;66;03m# Trova la media dei numeri nella lista\u001b[39;00m\n\u001b[0;32m----> 3\u001b[0m media \u001b[38;5;241m=\u001b[39m \u001b[38;5;28msum\u001b[39m(\u001b[43mlista\u001b[49m) \u001b[38;5;241m/\u001b[39m \u001b[38;5;28mlen\u001b[39m(lista)\n\u001b[1;32m      4\u001b[0m \u001b[38;5;28mprint\u001b[39m(\u001b[38;5;124mf\u001b[39m\u001b[38;5;124m\"\u001b[39m\u001b[38;5;124mLa media dei numeri nella lista è: \u001b[39m\u001b[38;5;132;01m{\u001b[39;00mmedia\u001b[38;5;132;01m}\u001b[39;00m\u001b[38;5;124m\"\u001b[39m)\n",
      "\u001b[0;31mNameError\u001b[0m: name 'lista' is not defined"
     ]
    }
   ],
   "source": [
    "# l' americana"
   ]
  }
 ],
 "metadata": {
  "kernelspec": {
   "display_name": "Python 3",
   "language": "python",
   "name": "python3"
  },
  "language_info": {
   "codemirror_mode": {
    "name": "ipython",
    "version": 3
   },
   "file_extension": ".py",
   "mimetype": "text/x-python",
   "name": "python",
   "nbconvert_exporter": "python",
   "pygments_lexer": "ipython3",
   "version": "3.13.0"
  }
 },
 "nbformat": 4,
 "nbformat_minor": 2
}
