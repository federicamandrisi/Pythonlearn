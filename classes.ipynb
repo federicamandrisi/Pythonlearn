{
 "cells": [
  {
   "cell_type": "markdown",
   "metadata": {},
   "source": [
    "## 01 CLASSES AND OBJECTS"
   ]
  },
  {
   "cell_type": "code",
   "execution_count": 2,
   "metadata": {},
   "outputs": [],
   "source": [
    "class Cake:\n",
    "    def __init__(self, main_ingredients, allergens, chocolate, cake_type, degree = 180):\n",
    "        self.main_ingredients = main_ingredients\n",
    "        self.allergens = allergens\n",
    "        self.chocolate = chocolate\n",
    "        self.cake_type = cake_type\n",
    "        self.degree = degree\n",
    "    def get_allergens(self):\n",
    "        print(f'This cake contains {\", \".join(self.allergens)}')\n",
    "    def get_baking_time(self):\n",
    "        if self.degree < 200:\n",
    "            return 30\n",
    "        else:\n",
    "            return 20"
   ]
  },
  {
   "cell_type": "code",
   "execution_count": 3,
   "metadata": {},
   "outputs": [],
   "source": [
    "pear_fondant = Cake(['flour', 'almond', 'pear', 'chocolate'],\n",
    "                    allergens = ['gluten', 'lactose'],\n",
    "                    chocolate = True,\n",
    "                    cake_type = 'Fondant',\n",
    "                    degree = 220)"
   ]
  },
  {
   "cell_type": "code",
   "execution_count": 4,
   "metadata": {},
   "outputs": [],
   "source": [
    "brownie_sunday = Cake(['flour', 'eggs', 'butter', 'chocolate'],\n",
    "                      allergens = ['gluten', 'eggs'],\n",
    "                      chocolate = True,\n",
    "                      cake_type = 'Brownie'\n",
    "                      )"
   ]
  },
  {
   "cell_type": "markdown",
   "metadata": {},
   "source": [
    "## 02 L'INCAPSULAMENTO"
   ]
  },
  {
   "cell_type": "markdown",
   "metadata": {},
   "source": [
    "### Caratteristiche principali dell'incapsulamento:\n",
    "1. Nascondere i dati:\n",
    "\n",
    "- I dettagli interni di un oggetto, come gli attributi (variabili di istanza), possono essere nascosti usando convenzioni di accesso.\n",
    "\n",
    "2. Protezione dei dati:\n",
    "\n",
    "- Impedisce l'accesso diretto agli attributi, forzando l'uso di metodi definiti (getter e setter) per leggere o modificare i valori.\n",
    "\n",
    "3. Facilità di manutenzione:\n",
    "\n",
    "- Cambiamenti interni nella struttura dell'oggetto non influenzano il codice esterno, purché i metodi pubblici rimangano gli stessi."
   ]
  },
  {
   "cell_type": "markdown",
   "metadata": {},
   "source": [
    "#### 1. Public:\n",
    "\n",
    "- Gli attributi o metodi che possono essere liberamente accessibili da qualsiasi parte del programma.\n",
    "- Non hanno prefissi speciali."
   ]
  },
  {
   "cell_type": "code",
   "execution_count": 5,
   "metadata": {},
   "outputs": [],
   "source": [
    "class Example:\n",
    "    def __init__(self):\n",
    "        self.name = \"Federica\"  # Attributo pubblico\n"
   ]
  },
  {
   "cell_type": "markdown",
   "metadata": {},
   "source": []
  },
  {
   "cell_type": "markdown",
   "metadata": {},
   "source": [
    "#### 2. Protected:\n",
    "\n",
    "Gli attributi o metodi che devono essere utilizzati solo all'interno della classe o dalle sottoclassi.\n",
    "Convenzione: prefisso con un singolo underscore _."
   ]
  },
  {
   "cell_type": "code",
   "execution_count": 6,
   "metadata": {},
   "outputs": [],
   "source": [
    "class Example:\n",
    "    def __init__(self):\n",
    "        self._age = 24  # Attributo protetto\n"
   ]
  },
  {
   "cell_type": "markdown",
   "metadata": {},
   "source": [
    "#### 3. Private:\n",
    "\n",
    "Gli attributi o metodi che devono essere utilizzati solo all'interno della classe.\n",
    "Convenzione: prefisso con due underscore __."
   ]
  },
  {
   "cell_type": "markdown",
   "metadata": {},
   "source": []
  },
  {
   "cell_type": "code",
   "execution_count": 7,
   "metadata": {},
   "outputs": [],
   "source": [
    "class Example:\n",
    "    def __init__(self):\n",
    "        self.__password = \"secure\"  # Attributo privato\n"
   ]
  },
  {
   "cell_type": "markdown",
   "metadata": {},
   "source": [
    "### Esempio di incapsulamento in Python\n"
   ]
  },
  {
   "cell_type": "code",
   "execution_count": 8,
   "metadata": {},
   "outputs": [
    {
     "name": "stdout",
     "output_type": "stream",
     "text": [
      "Alice\n",
      "35\n"
     ]
    }
   ],
   "source": [
    "class Person:\n",
    "    def __init__(self, name, age):\n",
    "        self.__name = name  # Attributo privato\n",
    "        self.__age = age    # Attributo privato\n",
    "\n",
    "    # Metodo getter per accedere al nome\n",
    "    def get_name(self):\n",
    "        return self.__name\n",
    "\n",
    "    # Metodo setter per modificare il nome\n",
    "    def set_name(self, name):\n",
    "        if isinstance(name, str):\n",
    "            self.__name = name\n",
    "        else:\n",
    "            print(\"Errore: Il nome deve essere una stringa.\")\n",
    "\n",
    "    # Metodo getter per accedere all'età\n",
    "    def get_age(self):\n",
    "        return self.__age\n",
    "\n",
    "    # Metodo setter per modificare l'età\n",
    "    def set_age(self, age):\n",
    "        if age > 0:\n",
    "            self.__age = age\n",
    "        else:\n",
    "            print(\"Errore: L'età deve essere maggiore di 0.\")\n",
    "\n",
    "# Creare un'istanza della classe\n",
    "person = Person(\"Alice\", 30)\n",
    "\n",
    "# Accesso controllato tramite getter e setter\n",
    "print(person.get_name())  # Output: Alice\n",
    "person.set_age(35)        # Modifica l'età\n",
    "print(person.get_age())   # Output: 35\n"
   ]
  },
  {
   "cell_type": "markdown",
   "metadata": {},
   "source": [
    "### Differenza tra Getter e Setter\n",
    "- #### Getter:\n",
    "\n",
    "   - È un metodo che permette di leggere il valore di un attributo privato.\n",
    "   - Garantisce un accesso controllato ai dati.\n",
    "   - Non modifica il valore dell'attributo, ma lo restituisce."
   ]
  },
  {
   "cell_type": "code",
   "execution_count": 9,
   "metadata": {},
   "outputs": [],
   "source": [
    "def get_name(self):\n",
    "    return self.__name\n"
   ]
  },
  {
   "cell_type": "markdown",
   "metadata": {},
   "source": [
    "Quando usi person.get_name(), stai accedendo al valore di __name.\n",
    "\n"
   ]
  },
  {
   "cell_type": "markdown",
   "metadata": {},
   "source": [
    "- #### Setter:\n",
    "\n",
    "   - È un metodo che permette di modificare il valore di un attributo privato.\n",
    "   - Controlla e valida il nuovo valore prima di assegnarlo.\n",
    "   - Utile per garantire che i dati siano sempre coerenti.\n"
   ]
  },
  {
   "cell_type": "code",
   "execution_count": 10,
   "metadata": {},
   "outputs": [],
   "source": [
    "def set_age(self, age):\n",
    "    if age > 0:\n",
    "        self.__age = age\n",
    "    else:\n",
    "        print(\"Errore: L'età deve essere maggiore di 0.\")\n"
   ]
  },
  {
   "cell_type": "markdown",
   "metadata": {},
   "source": [
    "Quando usi person.set_age(35), stai modificando il valore di __age e verificando che sia valido."
   ]
  },
  {
   "cell_type": "markdown",
   "metadata": {},
   "source": [
    "#### Riassunto\n",
    "- Getter → Usato per leggere dati privati.\n",
    "- Setter → Usato per modificare dati privati.\n",
    "- Gli oggetti vengono creati alla fine perché prima dobbiamo definire il \"progetto\" con la classe."
   ]
  },
  {
   "cell_type": "markdown",
   "metadata": {},
   "source": [
    "## 03 L'EREDITA'"
   ]
  },
  {
   "cell_type": "markdown",
   "metadata": {},
   "source": [
    "L'eredità in Python è un principio della programmazione orientata agli oggetti (OOP) che consente a una classe (detta classe derivata o subclass) di acquisire le proprietà e i metodi di un'altra classe (detta classe base o superclass). Questo permette di riutilizzare il codice, ridurre la duplicazione e creare gerarchie di classi."
   ]
  },
  {
   "cell_type": "markdown",
   "metadata": {},
   "source": [
    "#### Come funziona l'eredità in Python?\n",
    "- Una classe base contiene attributi e metodi comuni che possono essere condivisi con altre classi.\n",
    "- Una classe derivata eredita automaticamente questi attributi e metodi e può anche:\n",
    "   - Aggiungere nuovi attributi e metodi.\n",
    "   - Sovrascrivere (override) i metodi della classe base.\n"
   ]
  },
  {
   "cell_type": "markdown",
   "metadata": {},
   "source": [
    "#### Sintassi dell'eredità\n",
    "Per dichiarare una classe derivata, si specifica il nome della classe base tra parentesi:\n"
   ]
  },
  {
   "cell_type": "code",
   "execution_count": 11,
   "metadata": {},
   "outputs": [],
   "source": [
    "class ClasseBase:\n",
    "    # Attributi e metodi della classe base\n",
    "    pass\n",
    "\n",
    "class ClasseDerivata(ClasseBase):\n",
    "    # Attributi e metodi della classe derivata\n",
    "    pass\n"
   ]
  },
  {
   "cell_type": "markdown",
   "metadata": {},
   "source": [
    "#### Esempio semplice di eredità"
   ]
  },
  {
   "cell_type": "code",
   "execution_count": 12,
   "metadata": {},
   "outputs": [
    {
     "name": "stdout",
     "output_type": "stream",
     "text": [
      "Fido sta mangiando.\n",
      "Fido sta abbaiando.\n"
     ]
    }
   ],
   "source": [
    "# Classe base\n",
    "class Animal:\n",
    "    def __init__(self, name):\n",
    "        self.name = name\n",
    "\n",
    "    def eat(self):\n",
    "        print(f\"{self.name} sta mangiando.\") #Output: Fido sta mangiando.\n",
    "\n",
    "# Classe derivata\n",
    "class Dog(Animal):\n",
    "    def bark(self):\n",
    "        print(f\"{self.name} sta abbaiando.\") #Output: Fido sta abbaiando.\n",
    "\n",
    "# Utilizzo\n",
    "dog = Dog(\"Fido\")\n",
    "dog.eat()   # Metodo ereditato dalla classe base\n",
    "dog.bark()  # Metodo specifico della classe derivata\n"
   ]
  },
  {
   "cell_type": "markdown",
   "metadata": {},
   "source": [
    "#### Sovrascrittura di metodi\n",
    "La classe derivata può fornire una nuova implementazione per un metodo ereditato dalla classe base."
   ]
  },
  {
   "cell_type": "code",
   "execution_count": null,
   "metadata": {},
   "outputs": [],
   "source": [
    "class Animal:\n",
    "    def make_sound(self):\n",
    "        print(\"Questo animale fa un suono.\")\n",
    "\n",
    "class Dog(Animal):\n",
    "    def make_sound(self):\n",
    "        print(\"Il cane abbaia.\")\n",
    "\n",
    "# Utilizzo\n",
    "animal = Animal()\n",
    "animal.make_sound()  # Output: Questo animale fa un suono.\n",
    "\n",
    "dog = Dog()\n",
    "dog.make_sound()  # Output: Il cane abbaia.\n"
   ]
  },
  {
   "cell_type": "markdown",
   "metadata": {},
   "source": [
    "#### Uso del metodo super()\n",
    "Il metodo super() permette di accedere ai metodi della classe base, spesso usato per estendere la funzionalità."
   ]
  },
  {
   "cell_type": "code",
   "execution_count": null,
   "metadata": {},
   "outputs": [],
   "source": [
    "class Animal:\n",
    "    def __init__(self, name):\n",
    "        self.name = name\n",
    "\n",
    "    def eat(self):\n",
    "        print(f\"{self.name} sta mangiando.\")\n",
    "\n",
    "class Cat(Animal):\n",
    "    def __init__(self, name, color):\n",
    "        super().__init__(name)  # Chiama il costruttore della classe base\n",
    "        self.color = color\n",
    "\n",
    "    def eat(self):\n",
    "        super().eat()  # Usa il metodo della classe base\n",
    "        print(f\"{self.name} di colore {self.color} sta mangiando elegantemente.\")\n",
    "\n",
    "# Utilizzo\n",
    "cat = Cat(\"Micio\", \"nero\")\n",
    "cat.eat()\n"
   ]
  },
  {
   "cell_type": "markdown",
   "metadata": {},
   "source": [
    "#### Ereditarietà multipla\n",
    "In Python, una classe può ereditare da più di una classe base:"
   ]
  },
  {
   "cell_type": "code",
   "execution_count": null,
   "metadata": {},
   "outputs": [],
   "source": [
    "class Flyable:\n",
    "    def fly(self):\n",
    "        print(\"Questo oggetto può volare.\")\n",
    "\n",
    "class Swimmable:\n",
    "    def swim(self):\n",
    "        print(\"Questo oggetto può nuotare.\")\n",
    "\n",
    "class Duck(Flyable, Swimmable):\n",
    "    pass\n",
    "\n",
    "# Utilizzo\n",
    "duck = Duck()\n",
    "duck.fly()   # Output: Questo oggetto può volare.\n",
    "duck.swim()  # Output: Questo oggetto può nuotare.\n"
   ]
  },
  {
   "cell_type": "markdown",
   "metadata": {},
   "source": [
    "### Vantaggi dell'eredità\n",
    "1. Riutilizzo del codice: Una classe derivata può riutilizzare codice già scritto nella classe base.\n",
    "2. Gerarchie chiare: Permette di organizzare e strutturare il codice in modo logico.\n",
    "3. Espandibilità: Le classi derivate possono aggiungere o modificare funzionalità senza alterare la classe base.\n",
    "#### Conclusione\n",
    "L'eredità è uno strumento potente per scrivere codice più modulare, leggibile e riutilizzabile. \n"
   ]
  },
  {
   "cell_type": "markdown",
   "metadata": {},
   "source": [
    "## 04 GET AND SET METHODS + PROPERTY\n",
    "In Python, il meccanismo di ottenere e impostare i valori degli attributi (getter e setter) può essere implementato in due modi principali:\n",
    "\n",
    "  1. Metodi getter e setter tradizionali.\n",
    "  2. Uso del decoratore @property, che rende il codice più leggibile e \"pythonic\".\n",
    "\n"
   ]
  },
  {
   "cell_type": "markdown",
   "metadata": {},
   "source": [
    "### 1. Getter e Setter tradizionali\n",
    "Con i metodi getter e setter, possiamo accedere e modificare gli attributi privati della classe. Questi metodi offrono un controllo maggiore sui dati (es. validazioni).\n",
    "\n"
   ]
  },
  {
   "cell_type": "code",
   "execution_count": null,
   "metadata": {},
   "outputs": [],
   "source": [
    "class Person:\n",
    "    def __init__(self, name, age):\n",
    "        self.__name = name  # Attributo privato\n",
    "        self.__age = age    # Attributo privato\n",
    "\n",
    "    # Getter per ottenere il valore di 'name'\n",
    "    def get_name(self):\n",
    "        return self.__name\n",
    "\n",
    "    # Setter per impostare il valore di 'name'\n",
    "    def set_name(self, name):\n",
    "        if len(name) > 0:  # Validazione\n",
    "            self.__name = name\n",
    "        else:\n",
    "            print(\"Errore: Il nome non può essere vuoto.\")\n",
    "\n",
    "    # Getter per ottenere il valore di 'age'\n",
    "    def get_age(self):\n",
    "        return self.__age\n",
    "\n",
    "    # Setter per impostare il valore di 'age'\n",
    "    def set_age(self, age):\n",
    "        if age > 0:  # Validazione\n",
    "            self.__age = age\n",
    "        else:\n",
    "            print(\"Errore: L'età deve essere maggiore di 0.\")\n",
    "\n",
    "# Creazione dell'istanza\n",
    "p = Person(\"Federica\", 24)\n",
    "\n",
    "# Utilizzo dei metodi getter e setter\n",
    "print(p.get_name())  # Output: Federica\n",
    "p.set_name(\"Anna\")   # Modifica del nome\n",
    "print(p.get_name())  # Output: Anna\n",
    "\n",
    "print(p.get_age())   # Output: 24\n",
    "p.set_age(25)        # Modifica dell'età\n",
    "print(p.get_age())   # Output: 25\n"
   ]
  },
  {
   "cell_type": "markdown",
   "metadata": {},
   "source": [
    "### 2.  Uso del decoratore @property\n",
    "Il decoratore @property rende il codice più leggibile perché permette di accedere agli attributi come se fossero pubblici, mantenendo comunque il controllo interno tramite getter e setter.\n",
    "\n",
    "#### Come funziona\n",
    " - Getter: Usa il decoratore @property.\n",
    " - Setter: Usa il decoratore @<nome_attributo>.setter.\n",
    "Esempio"
   ]
  },
  {
   "cell_type": "code",
   "execution_count": null,
   "metadata": {},
   "outputs": [],
   "source": [
    "class Person:\n",
    "    def __init__(self, name, age):\n",
    "        self.__name = name  # Attributo privato\n",
    "        self.__age = age    # Attributo privato\n",
    "\n",
    "    # Getter per 'name'\n",
    "    @property\n",
    "    def name(self):\n",
    "        return self.__name\n",
    "\n",
    "    # Setter per 'name'\n",
    "    @name.setter\n",
    "    def name(self, name):\n",
    "        if len(name) > 0:  # Validazione\n",
    "            self.__name = name\n",
    "        else:\n",
    "            print(\"Errore: Il nome non può essere vuoto.\")\n",
    "\n",
    "    # Getter per 'age'\n",
    "    @property\n",
    "    def age(self):\n",
    "        return self.__age\n",
    "\n",
    "    # Setter per 'age'\n",
    "    @age.setter\n",
    "    def age(self, age):\n",
    "        if age > 0:  # Validazione\n",
    "            self.__age = age\n",
    "        else:\n",
    "            print(\"Errore: L'età deve essere maggiore di 0.\")\n",
    "\n",
    "# Creazione dell'istanza\n",
    "p = Person(\"Federica\", 24)\n",
    "\n",
    "# Utilizzo con proprietà (senza chiamare metodi esplicitamente)\n",
    "print(p.name)  # Output: Federica\n",
    "p.name = \"Anna\"  # Modifica del nome\n",
    "print(p.name)  # Output: Anna\n",
    "\n",
    "print(p.age)   # Output: 24\n",
    "p.age = 25     # Modifica dell'età\n",
    "print(p.age)   # Output: 25\n"
   ]
  },
  {
   "cell_type": "markdown",
   "metadata": {},
   "source": [
    "### Vantaggi del decoratore @property\n",
    "1. Sintassi pulita: Gli attributi vengono gestiti come se fossero pubblici (p.name invece di p.get_name()).\n",
    "2. Incapsulamento: Mantiene la protezione degli attributi con la possibilità di aggiungere validazione.\n",
    "3. Leggibilità: Il codice è più chiaro e \"pythonic\".\n",
    "\n",
    "### Quando usare getter e setter o @property?\n",
    "- Getter e Setter tradizionali:\n",
    "   - Quando lavori in team con persone abituate a linguaggi come Java o C++.\n",
    "   - Se preferisci una distinzione esplicita tra metodi e attributi.\n",
    "- Decoratore @property:\n",
    "   - Se vuoi scrivere codice più leggibile e conforme agli standard Python.\n",
    "   - Ideale per piccoli progetti o per sviluppatori esperti in Python."
   ]
  },
  {
   "cell_type": "markdown",
   "metadata": {},
   "source": [
    "## 05 CONDIZIONE DI PROPERTY\n",
    "Una condizione di property è un controllo che puoi implementare all'interno di una proprietà per garantire che un valore assegnato a un attributo rispetti determinati vincoli o condizioni.\n",
    "\n",
    "Questo è utile per:\n",
    "\n",
    "   1. Validare i dati prima di impostarli.\n",
    "   2. Impedire valori non validi che potrebbero causare problemi nel comportamento del programma."
   ]
  },
  {
   "cell_type": "markdown",
   "metadata": {},
   "source": [
    "Immaginiamo di avere una classe che rappresenta un conto bancario. L'attributo balance (saldo) non può mai essere negativo."
   ]
  },
  {
   "cell_type": "code",
   "execution_count": null,
   "metadata": {},
   "outputs": [],
   "source": [
    "class BankAccount:\n",
    "    def __init__(self, account_holder, balance):\n",
    "        self.account_holder = account_holder\n",
    "        self.__balance = balance  # Attributo privato\n",
    "\n",
    "    # Getter per 'balance'\n",
    "    @property\n",
    "    def balance(self):\n",
    "        return self.__balance\n",
    "\n",
    "    # Setter per 'balance' con condizione\n",
    "    @balance.setter\n",
    "    def balance(self, amount):\n",
    "        if amount >= 0:\n",
    "            self.__balance = amount\n",
    "        else:\n",
    "            raise ValueError(\"Il saldo non può essere negativo!\")\n",
    "\n",
    "# Utilizzo\n",
    "try:\n",
    "    account = BankAccount(\"Federica\", 1000)\n",
    "    print(account.balance)  # Output: 1000\n",
    "\n",
    "    account.balance = 500  # Modifica valida\n",
    "    print(account.balance)  # Output: 500\n",
    "\n",
    "    account.balance = -200  # Modifica non valida, genera un'eccezione\n",
    "except ValueError as e:\n",
    "    print(e)  # Output: Il saldo non può essere negativo!\n"
   ]
  },
  {
   "cell_type": "markdown",
   "metadata": {},
   "source": [
    "### Aggiungere più condizioni\n",
    "Puoi implementare più condizioni nel setter. Ad esempio, se volessimo limitare il massimo valore del saldo:"
   ]
  },
  {
   "cell_type": "code",
   "execution_count": null,
   "metadata": {},
   "outputs": [],
   "source": [
    "class BankAccount:\n",
    "    def __init__(self, account_holder, balance):\n",
    "        self.account_holder = account_holder\n",
    "        self.__balance = balance\n",
    "\n",
    "    @property\n",
    "    def balance(self):\n",
    "        return self.__balance\n",
    "\n",
    "    @balance.setter\n",
    "    def balance(self, amount):\n",
    "        if amount < 0:\n",
    "            raise ValueError(\"Il saldo non può essere negativo!\")\n",
    "        elif amount > 100000:\n",
    "            raise ValueError(\"Il saldo non può superare 100,000!\")\n",
    "        else:\n",
    "            self.__balance = amount\n",
    "\n",
    "# Utilizzo\n",
    "try:\n",
    "    account = BankAccount(\"Federica\", 1000)\n",
    "    print(account.balance)  # Output: 1000\n",
    "\n",
    "    account.balance = 50000  # Modifica valida\n",
    "    print(account.balance)  # Output: 50000\n",
    "\n",
    "    account.balance = 200000  # Modifica non valida\n",
    "except ValueError as e:\n",
    "    print(e)  # Output: Il saldo non può superare 100,000!\n"
   ]
  },
  {
   "cell_type": "markdown",
   "metadata": {},
   "source": [
    "### Condizioni dinamiche con altri attributi\n",
    "A volte le condizioni possono dipendere da altri attributi. Ad esempio, impostare una condizione che richiede un'età minima per aprire un conto bancario:\n"
   ]
  },
  {
   "cell_type": "code",
   "execution_count": null,
   "metadata": {},
   "outputs": [],
   "source": [
    "class BankAccount:\n",
    "    def __init__(self, account_holder, age):\n",
    "        self.account_holder = account_holder\n",
    "        self.__age = age\n",
    "\n",
    "    @property\n",
    "    def age(self):\n",
    "        return self.__age\n",
    "\n",
    "    @age.setter\n",
    "    def age(self, value):\n",
    "        if value < 18:\n",
    "            raise ValueError(\"L'età minima per aprire un conto è 18 anni!\")\n",
    "        self.__age = value\n",
    "\n",
    "# Utilizzo\n",
    "try:\n",
    "    account = BankAccount(\"Federica\", 20)\n",
    "    print(account.age)  # Output: 20\n",
    "\n",
    "    account.age = 17  # Genera un'eccezione\n",
    "except ValueError as e:\n",
    "    print(e)  # Output: L'età minima per aprire un conto è 18 anni!\n"
   ]
  },
  {
   "cell_type": "markdown",
   "metadata": {},
   "source": [
    "#### Vantaggi delle proprietà con condizioni\n",
    "  1. Controllo dei dati: Garantisce che gli attributi abbiano sempre valori validi.\n",
    "  2. Flessibilità: Permette di cambiare le regole di validazione senza modificare il modo in cui accedi o imposti l'attributo.\n",
    "  3. Incapsulamento: Mantiene gli attributi privati e consente di esporre solo interfacce controllate."
   ]
  },
  {
   "cell_type": "markdown",
   "metadata": {},
   "source": [
    "# ESERCIZI"
   ]
  },
  {
   "cell_type": "markdown",
   "metadata": {},
   "source": [
    "### Classes and Object - 1\n",
    "\"Crea un divertente personaggio di un gioco per computer chiamato 'Speedy'. Questo personaggio ha quattro gambe ed è incredibilmente veloce. Progetta una classe Python chiamata 'Speedy' con un costruttore che stampa 'Speedy è arrivato!' ogni volta che un nuovo personaggio Speedy viene aggiunto al gioco.\n",
    "\n",
    "Inoltre, aggiungi un metodo chiamato 'run' alla classe 'Speedy', che stampa 'Zoom! Speedy corre come il vento!' quando viene eseguito.\n",
    "\n",
    "Scrivi uno script Python per dare vita al tuo personaggio Speedy. Vivi l'emozione di guardare Speedy in azione, mentre corre nel mondo del gioco.\""
   ]
  },
  {
   "cell_type": "code",
   "execution_count": 2,
   "metadata": {},
   "outputs": [
    {
     "name": "stdout",
     "output_type": "stream",
     "text": [
      "Speedy has arrived!\n",
      "Zoom! Speedy is running like the wind!\n"
     ]
    }
   ],
   "source": [
    "class speedy:\n",
    "    def __init__(self):\n",
    "        print(\"Speedy has arrived!\")\n",
    "\n",
    "    def run(self):\n",
    "        print(\"Zoom! Speedy is running like the wind!\")\n",
    "\n",
    "speedy().run()"
   ]
  },
  {
   "cell_type": "markdown",
   "metadata": {},
   "source": [
    "### Classes and Object - 2\n",
    "Nel tuo gioco per computer, c'è un adorabile personaggio chiamato \"Buddy\", un adorabile animale con quattro zampe e una propensione per la corsa. Vuoi aggiungere alcune nuove funzionalità a Buddy:\n",
    "\n",
    "Compiti:\n",
    "\n",
    "Migliora la classe Animal con un metodo chiamato count_legs, che visualizza il numero di zampe di Buddy.\n",
    "\n",
    "Aggiungi un metodo denominato return_legs alla classe Animal, che restituisce il numero di zampe di Buddy.\n",
    "\n",
    "Crea un'istanza della classe Animale per Buddy, con quattro zampe.\n",
    "\n",
    "Stampa il numero di gambe direttamente dalla variabile oggetto di Buddy, number_of_legs."
   ]
  },
  {
   "cell_type": "code",
   "execution_count": 33,
   "metadata": {},
   "outputs": [
    {
     "name": "stdout",
     "output_type": "stream",
     "text": [
      "Buddy's number of legs:  4\n",
      "Buddy has 4 legs.\n",
      "Buddy has (using method) 4 legs\n"
     ]
    }
   ],
   "source": [
    "class Animal: \n",
    "    def __init__(self, number_of_legs):\n",
    "        self.number_of_legs = number_of_legs\n",
    "    \n",
    "    #visualization and count buddy's legs\n",
    "    def count_legs(self):\n",
    "        print(f\"Buddy has {self.number_of_legs} legs.\")\n",
    "    \n",
    "    #method to run Buddy\n",
    "    def run(self):\n",
    "        print(\"Buddy is running!\")\n",
    "        \n",
    "    #method to return buddy's legs\n",
    "    def return_legs(self):\n",
    "        return self.number_of_legs\n",
    "\n",
    "     \n",
    "    #create the instance   \n",
    "    buddy = Animal(number_of_legs = 4)\n",
    "    \n",
    "    #print the number of legs directly from the object\n",
    "    print(\"Buddy's number of legs: \",buddy.number_of_legs)\n",
    "    \n",
    "    \n",
    "    #call the count_legs method\n",
    "    buddy.count_legs()\n",
    "    #call the return_legs method\n",
    "    legs = buddy.return_legs()\n",
    "    print(f\"Buddy has (using method) {legs} legs\")\n",
    "          \n",
    "    \n",
    "    \n",
    "    "
   ]
  },
  {
   "cell_type": "markdown",
   "metadata": {},
   "source": [
    "### Classes and Object - 3\n",
    "In un delizioso gioco per computer, abbiamo introdotto un personaggio affascinante chiamato \"Fluffy\", un adorabile animale con quattro zampe, che possiede un incredibile talento per la corsa. Per proteggere il conteggio delle zampe di Fluffy dall'accesso diretto, decidiamo di seguire la convenzione di Python utilizzando un nome di variabile con un prefisso di '_' per indicare che non deve essere accessibile direttamente.\n",
    "\n",
    "   1. Aggiornare la variabile leg_count in _legs nella classe Animal, segnalando che non è necessario accedervi direttamente.\n",
    "   2. Introduciamo un nuovo metodo chiamato get_legs nella classe Animal che consente un accesso controllato al numero di zampe.\n",
    "   3. Crea un'istanza della classe Animal che rappresenta Fluffy, con quattro zampe.\n",
    "   4. Utilizza il metodo get_legs per stampare il numero di zampe di Fluffy.\n",
    "   \n",
    "Apportando queste modifiche, possiamo garantire che il conteggio delle zampe di Fluffy sia protetto e che sia possibile accedervi solo tramite il metodo designato.\n"
   ]
  },
  {
   "cell_type": "code",
   "execution_count": 41,
   "metadata": {},
   "outputs": [
    {
     "name": "stdout",
     "output_type": "stream",
     "text": [
      "Fluffy's number of legs:  4\n"
     ]
    }
   ],
   "source": [
    "class Animal:\n",
    "    def __init__(self, legs):\n",
    "        self._legs = legs \n",
    "    \n",
    "    #method to return number of legs\n",
    "    def get_legs(self):\n",
    "        return self._legs\n",
    "    \n",
    "    #create the instance\n",
    "    fluffy = Animal(legs = 4)\n",
    "    \n",
    "    #call di get_legs method\n",
    "    print(\"Fluffy's number of legs: \", fluffy.get_legs())\n",
    "    "
   ]
  },
  {
   "cell_type": "markdown",
   "metadata": {},
   "source": [
    "### Classes and Object - 4\n",
    "Il tuo gioco si sta evolvendo e stai aggiungendo un nuovo personaggio: un Cane. Questo Cane è un tipo di Animale, ma con alcune caratteristiche extra. I tuoi compiti sono:\n",
    "\n",
    " 1. Definire una classe Cane che eredita dalla classe Animale.\n",
    " 2. Aggiungere un nome di attributo privato alla classe Dog.\n",
    " 3. Aggiungere un metodo bark alla classe Dog che stampa \"woof woof\".\n",
    " 4. Crea un'istanza della classe Cane con un nome e 4 zampe.\n",
    "Scrivi il nome del cane, fallo abbaiare e conta le sue zampe."
   ]
  },
  {
   "cell_type": "code",
   "execution_count": 43,
   "metadata": {},
   "outputs": [
    {
     "name": "stdout",
     "output_type": "stream",
     "text": [
      "Dog's name:  Buddy\n",
      "Woof woof!\n",
      "Dog's number of legs:  4\n"
     ]
    }
   ],
   "source": [
    "#Define a Dog class that inherits from the Animal class\n",
    "class Dog(Animal):\n",
    "    def __init__(self, name, _legs):\n",
    "        super().__init__(_legs)\n",
    "        self.__name = name\n",
    "        \n",
    "#Add a private attribute name to the Dog class\n",
    "    def get_name(self):\n",
    "        return self.__name\n",
    "    \n",
    "#Add a bark method to the Dog class\n",
    "    def bark(self):\n",
    "        print(\"Woof woof!\")\n",
    "\n",
    "#Create an instance of the Dog class with a name and 4 legs\n",
    "dog = Dog(\"Buddy\", 4)\n",
    "\n",
    "#Print the name of the dog, make it bark,  and count its legs\n",
    "print(\"Dog's name: \", dog.get_name())\n",
    "dog.bark()\n",
    "print(\"Dog's number of legs: \", dog.get_legs())\n",
    "  \n",
    "\n"
   ]
  },
  {
   "cell_type": "code",
   "execution_count": null,
   "metadata": {},
   "outputs": [],
   "source": []
  }
 ],
 "metadata": {
  "kernelspec": {
   "display_name": "Python 3",
   "language": "python",
   "name": "python3"
  },
  "language_info": {
   "codemirror_mode": {
    "name": "ipython",
    "version": 3
   },
   "file_extension": ".py",
   "mimetype": "text/x-python",
   "name": "python",
   "nbconvert_exporter": "python",
   "pygments_lexer": "ipython3",
   "version": "3.13.0"
  }
 },
 "nbformat": 4,
 "nbformat_minor": 2
}
